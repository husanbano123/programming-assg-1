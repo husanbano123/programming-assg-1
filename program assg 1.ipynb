{
 "cells": [
  {
   "cell_type": "code",
   "execution_count": 3,
   "id": "b9fc3733",
   "metadata": {},
   "outputs": [
    {
     "ename": "SyntaxError",
     "evalue": "invalid syntax (Temp/ipykernel_9936/12173042.py, line 1)",
     "output_type": "error",
     "traceback": [
      "\u001b[1;36m  File \u001b[1;32m\"C:\\Users\\Admin\\AppData\\Local\\Temp/ipykernel_9936/12173042.py\"\u001b[1;36m, line \u001b[1;32m1\u001b[0m\n\u001b[1;33m    1.\tWrite a Python program to print \"Hello Python\"?\u001b[0m\n\u001b[1;37m      \t^\u001b[0m\n\u001b[1;31mSyntaxError\u001b[0m\u001b[1;31m:\u001b[0m invalid syntax\n"
     ]
    }
   ],
   "source": [
    "1.\tWrite a Python program to print \"Hello Python\"?\n",
    "2.\tWrite a Python program to do arithmetical operations addition and division.?\n",
    "3.\tWrite a Python program to find the area of a triangle?\n",
    "4.\tWrite a Python program to swap two variables?\n",
    "5.\tWrite a Python program to generate a random number?\n"
   ]
  },
  {
   "cell_type": "code",
   "execution_count": 4,
   "id": "1c82b87d",
   "metadata": {},
   "outputs": [
    {
     "name": "stdout",
     "output_type": "stream",
     "text": [
      "Hello Python\n"
     ]
    }
   ],
   "source": [
    "#q.1\n",
    "print(\"Hello Python\")"
   ]
  },
  {
   "cell_type": "code",
   "execution_count": 5,
   "id": "5674672e",
   "metadata": {},
   "outputs": [
    {
     "name": "stdout",
     "output_type": "stream",
     "text": [
      "15\n",
      "2.0\n"
     ]
    }
   ],
   "source": [
    "#q2 arithmetical operation\n",
    "a=10\n",
    "b=5\n",
    "add=a+b\n",
    "div=a/b\n",
    "print(add)\n",
    "print(div)"
   ]
  },
  {
   "cell_type": "code",
   "execution_count": 8,
   "id": "41278ce2",
   "metadata": {},
   "outputs": [
    {
     "name": "stdout",
     "output_type": "stream",
     "text": [
      "enter length of first side:5\n",
      "enter length of second side:6\n",
      "enter length of third side:7\n",
      "The area of traingle is 14.70\n"
     ]
    }
   ],
   "source": [
    "# q3 area of traingle\n",
    "a=float(input(\"enter length of first side:\"))\n",
    "b=float(input(\"enter length of second side:\"))\n",
    "c=float(input(\"enter length of third side:\"))\n",
    "s=(a+b+c)*0.5\n",
    "area=(s*(s-a)*(s-b)*(s-c))**0.5\n",
    "print(\"The area of traingle is %0.2f\"%area)\n"
   ]
  },
  {
   "cell_type": "code",
   "execution_count": 7,
   "id": "a47316a6",
   "metadata": {},
   "outputs": [
    {
     "name": "stdout",
     "output_type": "stream",
     "text": [
      "enter value of a:3\n",
      "enter value of b:5\n",
      "value of a after swapping:5\n",
      "value of b after swapping:3\n"
     ]
    }
   ],
   "source": [
    "#q4 swap variable\n",
    "a=input('enter value of a:')\n",
    "b=input('enter value of b:')\n",
    "temp=a\n",
    "a=b\n",
    "b=temp\n",
    "print(\"value of a after swapping:{}\".format(a))\n",
    "print(\"value of b after swapping:{}\".format(b))"
   ]
  },
  {
   "cell_type": "code",
   "execution_count": 1,
   "id": "2967f9c3",
   "metadata": {},
   "outputs": [
    {
     "name": "stdout",
     "output_type": "stream",
     "text": [
      "23\n"
     ]
    }
   ],
   "source": [
    "#q5\n",
    "import random\n",
    "n=random.randint(0,25)\n",
    "print(n)\n",
    "    "
   ]
  },
  {
   "cell_type": "code",
   "execution_count": 2,
   "id": "85d56c09",
   "metadata": {},
   "outputs": [
    {
     "name": "stdout",
     "output_type": "stream",
     "text": [
      "0.12849162105795608\n"
     ]
    }
   ],
   "source": [
    "import random\n",
    "n=random.random()\n",
    "print(n)"
   ]
  },
  {
   "cell_type": "code",
   "execution_count": null,
   "id": "ba3133d4",
   "metadata": {},
   "outputs": [],
   "source": []
  }
 ],
 "metadata": {
  "kernelspec": {
   "display_name": "Python 3 (ipykernel)",
   "language": "python",
   "name": "python3"
  },
  "language_info": {
   "codemirror_mode": {
    "name": "ipython",
    "version": 3
   },
   "file_extension": ".py",
   "mimetype": "text/x-python",
   "name": "python",
   "nbconvert_exporter": "python",
   "pygments_lexer": "ipython3",
   "version": "3.9.7"
  }
 },
 "nbformat": 4,
 "nbformat_minor": 5
}
